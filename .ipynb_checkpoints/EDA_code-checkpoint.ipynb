{
 "cells": [
  {
   "cell_type": "code",
   "execution_count": null,
   "id": "e2745b72-251d-443e-89b9-3575823295e0",
   "metadata": {
    "tags": []
   },
   "outputs": [],
   "source": [
    "from domino.data_sources import DataSourceClient\n",
    "\n",
    "# instantiate a client and fetch the datasource instance\n",
    "object_store = DataSourceClient().get_datasource(\"winequality\")\n",
    "\n",
    "# list objects available in the datasource\n",
    "objects = object_store.list_objects()\n",
    "\n",
    "## get content as binary\n",
    "# content = object_store.get(\"key\")\n",
    "\n",
    "## download content to file\n",
    "# object_store.download_file(\"key\", \"./path/to/local/file\")\n",
    "\n",
    "## Download content to file object\n",
    "# f = io.BytesIO()\n",
    "# object_store.download_fileobj(\"key\", f)"
   ]
  },
  {
   "cell_type": "code",
   "execution_count": null,
   "id": "e9c04968-a681-4715-88ce-b9b68cc927e3",
   "metadata": {
    "tags": []
   },
   "outputs": [],
   "source": [
    "from io import StringIO\n",
    "import pandas as pd\n",
    "\n",
    "s=str(object_store.get(\"WineQualityData.csv\"),'utf-8')\n",
    "data = StringIO(s) \n",
    "\n",
    "df=pd.read_csv(data)\n",
    "df.head()"
   ]
  },
  {
   "cell_type": "code",
   "execution_count": null,
   "id": "fb7bbd22-532e-4c71-b3c6-c3b0ad5ecd4d",
   "metadata": {
    "tags": []
   },
   "outputs": [],
   "source": [
    "import seaborn as sns\n",
    "import matplotlib.pyplot as plt\n",
    "df['is_red'] = df.type.apply(lambda x : int(x=='red'))\n",
    "fig = plt.figure(figsize=(10,10))\n",
    "sns.heatmap(df.corr(numeric_only=True), annot = True, fmt='.1g')"
   ]
  },
  {
   "cell_type": "code",
   "execution_count": null,
   "id": "17a5dd2e-e372-4f24-a9dd-73e32754a0e3",
   "metadata": {
    "tags": []
   },
   "outputs": [],
   "source": [
    "corr_values = df.corr(numeric_only=True).sort_values(by = 'quality')['quality'].drop('quality',axis=0)\n",
    "important_feats=corr_values[abs(corr_values)>0.08]\n",
    "print(important_feats)\n",
    "sns.set_theme(style=\"darkgrid\")\n",
    "plt.figure(figsize=(16,5))\n",
    "plt.title('Feature Importance for Wine Quality')\n",
    "plt.ylabel('Pearson Correlation')\n",
    "sns.barplot(x=important_feats.keys(), y=important_feats.values, palette='seismic_r')"
   ]
  },
  {
   "cell_type": "code",
   "execution_count": null,
   "id": "fc88b823-03c7-413b-b194-4b60b95f4258",
   "metadata": {
    "tags": []
   },
   "outputs": [],
   "source": [
    "for i in list(important_feats.keys())+['quality']:\n",
    "    plt.figure(figsize=(8,5))\n",
    "    plt.title('Histogram of {}'.format(i))\n",
    "    sns.histplot(df[i], kde=True)"
   ]
  },
  {
   "cell_type": "code",
   "execution_count": null,
   "id": "2f729616-c760-4d59-94bd-a83c35645d88",
   "metadata": {
    "tags": []
   },
   "outputs": [],
   "source": [
    "import os\n",
    "path = str('/mnt/data/{}/WineQualityData.csv'.format(os.environ.get('DOMINO_PROJECT_NAME')))\n",
    "df.to_csv(path, index = False)"
   ]
  },
  {
   "cell_type": "code",
   "execution_count": null,
   "id": "d651b406-08ad-4ec9-b686-de650395509c",
   "metadata": {},
   "outputs": [],
   "source": []
  }
 ],
 "metadata": {
  "dca-init": "true",
  "kernelspec": {
   "display_name": "Python 3 (ipykernel)",
   "language": "python",
   "name": "python3"
  },
  "language_info": {
   "codemirror_mode": {
    "name": "ipython",
    "version": 3
   },
   "file_extension": ".py",
   "mimetype": "text/x-python",
   "name": "python",
   "nbconvert_exporter": "python",
   "pygments_lexer": "ipython3",
   "version": "3.9.18"
  }
 },
 "nbformat": 4,
 "nbformat_minor": 5
}
